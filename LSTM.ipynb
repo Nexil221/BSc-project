{
 "cells": [
  {
   "cell_type": "code",
   "execution_count": 1,
   "metadata": {},
   "outputs": [
    {
     "name": "stderr",
     "output_type": "stream",
     "text": [
      "Using TensorFlow backend.\n"
     ]
    }
   ],
   "source": [
    "import pandas as pd\n",
    "from numpy import array\n",
    "from keras.models import Sequential\n",
    "from keras.layers import LSTM\n",
    "from keras.layers import Dense"
   ]
  },
  {
   "cell_type": "code",
   "execution_count": 33,
   "metadata": {},
   "outputs": [],
   "source": [
    "df_btc_model = pd.read_pickle(\"./df_btc_model.pkl\") "
   ]
  },
  {
   "cell_type": "code",
   "execution_count": 34,
   "metadata": {},
   "outputs": [
    {
     "data": {
      "text/html": [
       "<div>\n",
       "<style scoped>\n",
       "    .dataframe tbody tr th:only-of-type {\n",
       "        vertical-align: middle;\n",
       "    }\n",
       "\n",
       "    .dataframe tbody tr th {\n",
       "        vertical-align: top;\n",
       "    }\n",
       "\n",
       "    .dataframe thead th {\n",
       "        text-align: right;\n",
       "    }\n",
       "</style>\n",
       "<table border=\"1\" class=\"dataframe\">\n",
       "  <thead>\n",
       "    <tr style=\"text-align: right;\">\n",
       "      <th></th>\n",
       "      <th>0</th>\n",
       "      <th>1</th>\n",
       "      <th>2</th>\n",
       "      <th>3</th>\n",
       "      <th>4</th>\n",
       "      <th>5</th>\n",
       "      <th>6</th>\n",
       "      <th>7</th>\n",
       "      <th>8</th>\n",
       "      <th>9</th>\n",
       "      <th>...</th>\n",
       "      <th>270</th>\n",
       "      <th>271</th>\n",
       "      <th>272</th>\n",
       "      <th>273</th>\n",
       "      <th>274</th>\n",
       "      <th>275</th>\n",
       "      <th>Mean_X</th>\n",
       "      <th>Variance_X</th>\n",
       "      <th>Min_X</th>\n",
       "      <th>Max_X</th>\n",
       "    </tr>\n",
       "  </thead>\n",
       "  <tbody>\n",
       "    <tr>\n",
       "      <th>0</th>\n",
       "      <td>460.98</td>\n",
       "      <td>460.98</td>\n",
       "      <td>460.98</td>\n",
       "      <td>460.98</td>\n",
       "      <td>460.98</td>\n",
       "      <td>460.98</td>\n",
       "      <td>460.970</td>\n",
       "      <td>460.975</td>\n",
       "      <td>460.98</td>\n",
       "      <td>460.98</td>\n",
       "      <td>...</td>\n",
       "      <td>453.76</td>\n",
       "      <td>453.76</td>\n",
       "      <td>453.76</td>\n",
       "      <td>453.76</td>\n",
       "      <td>453.76</td>\n",
       "      <td>453.76</td>\n",
       "      <td>452.093333</td>\n",
       "      <td>0.439333</td>\n",
       "      <td>451.75</td>\n",
       "      <td>453.75</td>\n",
       "    </tr>\n",
       "    <tr>\n",
       "      <th>1</th>\n",
       "      <td>460.98</td>\n",
       "      <td>460.98</td>\n",
       "      <td>460.98</td>\n",
       "      <td>460.98</td>\n",
       "      <td>461.42</td>\n",
       "      <td>461.43</td>\n",
       "      <td>461.430</td>\n",
       "      <td>462.980</td>\n",
       "      <td>462.98</td>\n",
       "      <td>462.98</td>\n",
       "      <td>...</td>\n",
       "      <td>451.75</td>\n",
       "      <td>451.75</td>\n",
       "      <td>451.75</td>\n",
       "      <td>451.75</td>\n",
       "      <td>451.75</td>\n",
       "      <td>451.75</td>\n",
       "      <td>451.749167</td>\n",
       "      <td>0.000008</td>\n",
       "      <td>451.74</td>\n",
       "      <td>451.75</td>\n",
       "    </tr>\n",
       "    <tr>\n",
       "      <th>2</th>\n",
       "      <td>462.98</td>\n",
       "      <td>462.98</td>\n",
       "      <td>462.98</td>\n",
       "      <td>462.98</td>\n",
       "      <td>462.98</td>\n",
       "      <td>462.98</td>\n",
       "      <td>462.980</td>\n",
       "      <td>462.980</td>\n",
       "      <td>462.98</td>\n",
       "      <td>462.98</td>\n",
       "      <td>...</td>\n",
       "      <td>451.75</td>\n",
       "      <td>451.75</td>\n",
       "      <td>451.75</td>\n",
       "      <td>451.75</td>\n",
       "      <td>451.75</td>\n",
       "      <td>451.74</td>\n",
       "      <td>451.825000</td>\n",
       "      <td>0.031518</td>\n",
       "      <td>451.74</td>\n",
       "      <td>452.21</td>\n",
       "    </tr>\n",
       "    <tr>\n",
       "      <th>3</th>\n",
       "      <td>462.98</td>\n",
       "      <td>462.98</td>\n",
       "      <td>462.98</td>\n",
       "      <td>462.97</td>\n",
       "      <td>462.97</td>\n",
       "      <td>462.98</td>\n",
       "      <td>462.980</td>\n",
       "      <td>462.980</td>\n",
       "      <td>462.98</td>\n",
       "      <td>462.98</td>\n",
       "      <td>...</td>\n",
       "      <td>451.75</td>\n",
       "      <td>451.75</td>\n",
       "      <td>451.75</td>\n",
       "      <td>451.75</td>\n",
       "      <td>452.20</td>\n",
       "      <td>452.21</td>\n",
       "      <td>452.204167</td>\n",
       "      <td>0.000027</td>\n",
       "      <td>452.20</td>\n",
       "      <td>452.21</td>\n",
       "    </tr>\n",
       "    <tr>\n",
       "      <th>4</th>\n",
       "      <td>462.98</td>\n",
       "      <td>462.98</td>\n",
       "      <td>462.97</td>\n",
       "      <td>462.97</td>\n",
       "      <td>462.97</td>\n",
       "      <td>461.79</td>\n",
       "      <td>461.785</td>\n",
       "      <td>461.770</td>\n",
       "      <td>461.77</td>\n",
       "      <td>461.77</td>\n",
       "      <td>...</td>\n",
       "      <td>452.20</td>\n",
       "      <td>452.21</td>\n",
       "      <td>452.21</td>\n",
       "      <td>452.21</td>\n",
       "      <td>452.21</td>\n",
       "      <td>452.21</td>\n",
       "      <td>452.210000</td>\n",
       "      <td>0.000000</td>\n",
       "      <td>452.21</td>\n",
       "      <td>452.21</td>\n",
       "    </tr>\n",
       "  </tbody>\n",
       "</table>\n",
       "<p>5 rows × 280 columns</p>\n",
       "</div>"
      ],
      "text/plain": [
       "        0       1       2       3       4       5        6        7       8  \\\n",
       "0  460.98  460.98  460.98  460.98  460.98  460.98  460.970  460.975  460.98   \n",
       "1  460.98  460.98  460.98  460.98  461.42  461.43  461.430  462.980  462.98   \n",
       "2  462.98  462.98  462.98  462.98  462.98  462.98  462.980  462.980  462.98   \n",
       "3  462.98  462.98  462.98  462.97  462.97  462.98  462.980  462.980  462.98   \n",
       "4  462.98  462.98  462.97  462.97  462.97  461.79  461.785  461.770  461.77   \n",
       "\n",
       "        9  ...     270     271     272     273     274     275      Mean_X  \\\n",
       "0  460.98  ...  453.76  453.76  453.76  453.76  453.76  453.76  452.093333   \n",
       "1  462.98  ...  451.75  451.75  451.75  451.75  451.75  451.75  451.749167   \n",
       "2  462.98  ...  451.75  451.75  451.75  451.75  451.75  451.74  451.825000   \n",
       "3  462.98  ...  451.75  451.75  451.75  451.75  452.20  452.21  452.204167   \n",
       "4  461.77  ...  452.20  452.21  452.21  452.21  452.21  452.21  452.210000   \n",
       "\n",
       "   Variance_X   Min_X   Max_X  \n",
       "0    0.439333  451.75  453.75  \n",
       "1    0.000008  451.74  451.75  \n",
       "2    0.031518  451.74  452.21  \n",
       "3    0.000027  452.20  452.21  \n",
       "4    0.000000  452.21  452.21  \n",
       "\n",
       "[5 rows x 280 columns]"
      ]
     },
     "execution_count": 34,
     "metadata": {},
     "output_type": "execute_result"
    }
   ],
   "source": [
    "df_btc_model.head()"
   ]
  },
  {
   "cell_type": "code",
   "execution_count": 55,
   "metadata": {},
   "outputs": [],
   "source": [
    "df = df_btc_model.iloc[:,:-4]\n",
    "y = df_btc_model.iloc[:,-4:]"
   ]
  },
  {
   "cell_type": "code",
   "execution_count": 56,
   "metadata": {},
   "outputs": [],
   "source": [
    "df = df.to_numpy()\n",
    "y = y.to_numpy()"
   ]
  },
  {
   "cell_type": "code",
   "execution_count": 57,
   "metadata": {},
   "outputs": [
    {
     "data": {
      "text/plain": [
       "numpy.ndarray"
      ]
     },
     "execution_count": 57,
     "metadata": {},
     "output_type": "execute_result"
    }
   ],
   "source": [
    "type(df)"
   ]
  },
  {
   "cell_type": "code",
   "execution_count": 58,
   "metadata": {},
   "outputs": [
    {
     "data": {
      "text/plain": [
       "((25954, 276), (25954, 4))"
      ]
     },
     "execution_count": 58,
     "metadata": {},
     "output_type": "execute_result"
    }
   ],
   "source": [
    "df.shape, y.shape"
   ]
  },
  {
   "cell_type": "code",
   "execution_count": 59,
   "metadata": {},
   "outputs": [
    {
     "data": {
      "text/plain": [
       "array([[ 460.98 ,  460.98 ,  460.98 , ...,  453.76 ,  453.76 ,  453.76 ],\n",
       "       [ 460.98 ,  460.98 ,  460.98 , ...,  451.75 ,  451.75 ,  451.75 ],\n",
       "       [ 462.98 ,  462.98 ,  462.98 , ...,  451.75 ,  451.75 ,  451.74 ],\n",
       "       ...,\n",
       "       [8659.35 , 8643.495, 8665.395, ..., 8767.525, 8750.625, 8737.67 ],\n",
       "       [8667.555, 8705.805, 8715.235, ..., 8792.62 , 8822.07 , 8819.295],\n",
       "       [8750.005, 8764.39 , 8804.87 , ..., 8811.385, 8812.005, 8807.275]])"
      ]
     },
     "execution_count": 59,
     "metadata": {},
     "output_type": "execute_result"
    }
   ],
   "source": [
    "df"
   ]
  },
  {
   "cell_type": "code",
   "execution_count": 6,
   "metadata": {},
   "outputs": [],
   "source": [
    "# reshape from [samples, timesteps] into [samples, timesteps, features]\n",
    "n_features = 1\n",
    "df = df.reshape((df.shape[0], df.shape[1], n_features))"
   ]
  },
  {
   "cell_type": "code",
   "execution_count": 7,
   "metadata": {},
   "outputs": [
    {
     "data": {
      "text/plain": [
       "(25954, 276, 1)"
      ]
     },
     "execution_count": 7,
     "metadata": {},
     "output_type": "execute_result"
    }
   ],
   "source": [
    "df.shape"
   ]
  },
  {
   "cell_type": "code",
   "execution_count": 8,
   "metadata": {},
   "outputs": [],
   "source": [
    "n_steps_in, n_steps_out = 276, 4"
   ]
  },
  {
   "cell_type": "code",
   "execution_count": 12,
   "metadata": {},
   "outputs": [],
   "source": [
    "# define model\n",
    "model = Sequential()\n",
    "model.add(LSTM(50, activation='relu', return_sequences=True, input_shape=(n_steps_in, n_features)))\n",
    "model.add(LSTM(50, activation='relu'))\n",
    "model.add(Dense(n_steps_out))\n",
    "model.compile(optimizer='adam', loss='mse')"
   ]
  },
  {
   "cell_type": "code",
   "execution_count": 13,
   "metadata": {},
   "outputs": [
    {
     "data": {
      "text/plain": [
       "<keras.callbacks.History at 0x1e022f13390>"
      ]
     },
     "execution_count": 13,
     "metadata": {},
     "output_type": "execute_result"
    }
   ],
   "source": [
    "model.fit(df, y, epochs=25, verbose=0)"
   ]
  },
  {
   "cell_type": "code",
   "execution_count": 28,
   "metadata": {},
   "outputs": [],
   "source": [
    "x_input = df[0,:]"
   ]
  },
  {
   "cell_type": "code",
   "execution_count": 30,
   "metadata": {},
   "outputs": [],
   "source": [
    "x_input = x_input.reshape((1, n_steps_in, n_features))"
   ]
  },
  {
   "cell_type": "code",
   "execution_count": 31,
   "metadata": {},
   "outputs": [],
   "source": [
    "yhat = model.predict(x_input, verbose=0)"
   ]
  },
  {
   "cell_type": "code",
   "execution_count": 32,
   "metadata": {},
   "outputs": [
    {
     "name": "stdout",
     "output_type": "stream",
     "text": [
      "[[nan nan nan nan]]\n"
     ]
    }
   ],
   "source": [
    "print(yhat)"
   ]
  },
  {
   "cell_type": "code",
   "execution_count": null,
   "metadata": {},
   "outputs": [],
   "source": []
  },
  {
   "cell_type": "code",
   "execution_count": null,
   "metadata": {},
   "outputs": [],
   "source": []
  },
  {
   "cell_type": "code",
   "execution_count": null,
   "metadata": {},
   "outputs": [],
   "source": []
  },
  {
   "cell_type": "code",
   "execution_count": null,
   "metadata": {},
   "outputs": [],
   "source": []
  }
 ],
 "metadata": {
  "kernelspec": {
   "display_name": "Python 3",
   "language": "python",
   "name": "python3"
  },
  "language_info": {
   "codemirror_mode": {
    "name": "ipython",
    "version": 3
   },
   "file_extension": ".py",
   "mimetype": "text/x-python",
   "name": "python",
   "nbconvert_exporter": "python",
   "pygments_lexer": "ipython3",
   "version": "3.7.1"
  }
 },
 "nbformat": 4,
 "nbformat_minor": 2
}
